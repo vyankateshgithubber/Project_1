{
  "nbformat": 4,
  "nbformat_minor": 0,
  "metadata": {
    "colab": {
      "name": "Normal_equation.ipynb",
      "provenance": [],
      "authorship_tag": "ABX9TyNHQtyZ2dHn5EgvK8awG4iV",
      "include_colab_link": true
    },
    "kernelspec": {
      "name": "python3",
      "display_name": "Python 3"
    }
  },
  "cells": [
    {
      "cell_type": "markdown",
      "metadata": {
        "id": "view-in-github",
        "colab_type": "text"
      },
      "source": [
        "<a href=\"https://colab.research.google.com/github/vyankateshgithubber/Project_1/blob/master/Normal_equation.ipynb\" target=\"_parent\"><img src=\"https://colab.research.google.com/assets/colab-badge.svg\" alt=\"Open In Colab\"/></a>"
      ]
    },
    {
      "cell_type": "markdown",
      "metadata": {
        "id": "2w4Vc4lH9eWn",
        "colab_type": "text"
      },
      "source": [
        "\n",
        "**Import the Libraries**"
      ]
    },
    {
      "cell_type": "code",
      "metadata": {
        "id": "syOulqQH88Az",
        "colab_type": "code",
        "colab": {
          "base_uri": "https://localhost:8080/",
          "height": 70
        },
        "outputId": "22a7f6e5-7bc2-41eb-bd0b-c527eb7fbaf0"
      },
      "source": [
        "import numpy as np\n",
        "import pandas as pd\n",
        "import matplotlib.pyplot as plt\n",
        "import seaborn as sns"
      ],
      "execution_count": 2,
      "outputs": [
        {
          "output_type": "stream",
          "text": [
            "/usr/local/lib/python3.6/dist-packages/statsmodels/tools/_testing.py:19: FutureWarning: pandas.util.testing is deprecated. Use the functions in the public API at pandas.testing instead.\n",
            "  import pandas.util.testing as tm\n"
          ],
          "name": "stderr"
        }
      ]
    },
    {
      "cell_type": "markdown",
      "metadata": {
        "id": "_YmvbO63-C99",
        "colab_type": "text"
      },
      "source": [
        "**Import the Dataset**"
      ]
    },
    {
      "cell_type": "code",
      "metadata": {
        "id": "TsrobXIw-Cm7",
        "colab_type": "code",
        "colab": {
          "base_uri": "https://localhost:8080/",
          "height": 252
        },
        "outputId": "fd10e59f-d2c2-4738-e6e4-a00c9dd42b9a"
      },
      "source": [
        "dataset = pd.read_csv('Placement_Data_Full_Class.csv')\n",
        "print(dataset)\n",
        "size = dataset.shape[0]"
      ],
      "execution_count": 4,
      "outputs": [
        {
          "output_type": "stream",
          "text": [
            "     sl_no gender  ssc_p    ssc_b  ...  specialisation  mba_p      status    salary\n",
            "0        1      M  67.00   Others  ...          Mkt&HR  58.80      Placed  270000.0\n",
            "1        2      M  79.33  Central  ...         Mkt&Fin  66.28      Placed  200000.0\n",
            "2        3      M  65.00  Central  ...         Mkt&Fin  57.80      Placed  250000.0\n",
            "3        4      M  56.00  Central  ...          Mkt&HR  59.43  Not Placed       NaN\n",
            "4        5      M  85.80  Central  ...         Mkt&Fin  55.50      Placed  425000.0\n",
            "..     ...    ...    ...      ...  ...             ...    ...         ...       ...\n",
            "210    211      M  80.60   Others  ...         Mkt&Fin  74.49      Placed  400000.0\n",
            "211    212      M  58.00   Others  ...         Mkt&Fin  53.62      Placed  275000.0\n",
            "212    213      M  67.00   Others  ...         Mkt&Fin  69.72      Placed  295000.0\n",
            "213    214      F  74.00   Others  ...          Mkt&HR  60.23      Placed  204000.0\n",
            "214    215      M  62.00  Central  ...          Mkt&HR  60.22  Not Placed       NaN\n",
            "\n",
            "[215 rows x 15 columns]\n"
          ],
          "name": "stdout"
        }
      ]
    },
    {
      "cell_type": "code",
      "metadata": {
        "id": "o-QAPU2d-AIX",
        "colab_type": "code",
        "colab": {
          "base_uri": "https://localhost:8080/",
          "height": 386
        },
        "outputId": "ef669182-e000-414f-9758-5f699265e508"
      },
      "source": [
        "dataset.info()"
      ],
      "execution_count": 5,
      "outputs": [
        {
          "output_type": "stream",
          "text": [
            "<class 'pandas.core.frame.DataFrame'>\n",
            "RangeIndex: 215 entries, 0 to 214\n",
            "Data columns (total 15 columns):\n",
            " #   Column          Non-Null Count  Dtype  \n",
            "---  ------          --------------  -----  \n",
            " 0   sl_no           215 non-null    int64  \n",
            " 1   gender          215 non-null    object \n",
            " 2   ssc_p           215 non-null    float64\n",
            " 3   ssc_b           215 non-null    object \n",
            " 4   hsc_p           215 non-null    float64\n",
            " 5   hsc_b           215 non-null    object \n",
            " 6   hsc_s           215 non-null    object \n",
            " 7   degree_p        215 non-null    float64\n",
            " 8   degree_t        215 non-null    object \n",
            " 9   workex          215 non-null    object \n",
            " 10  etest_p         215 non-null    float64\n",
            " 11  specialisation  215 non-null    object \n",
            " 12  mba_p           215 non-null    float64\n",
            " 13  status          215 non-null    object \n",
            " 14  salary          148 non-null    float64\n",
            "dtypes: float64(6), int64(1), object(8)\n",
            "memory usage: 25.3+ KB\n"
          ],
          "name": "stdout"
        }
      ]
    },
    {
      "cell_type": "markdown",
      "metadata": {
        "id": "Mqn7jpqZ--Dn",
        "colab_type": "text"
      },
      "source": [
        "**Our main of this project is to predict etest percentage using the all the pervious year's SSC,HSC and degree percentage.\n",
        "Independent variables (X) are  ssc_p,hsc_p,degree_p.\n",
        "Dependent varible is etest_p.**"
      ]
    },
    {
      "cell_type": "code",
      "metadata": {
        "id": "L-XEoIXv-izX",
        "colab_type": "code",
        "colab": {
          "base_uri": "https://localhost:8080/",
          "height": 50
        },
        "outputId": "d6f2f9cf-fabf-4fae-851e-8ede4b090069"
      },
      "source": [
        "X = np.array(dataset[['ssc_p','hsc_p','degree_p']])\n",
        "y = np.array(dataset['etest_p']).reshape(-1,1)\n",
        "print(X.shape)\n",
        "print(y.shape)"
      ],
      "execution_count": 7,
      "outputs": [
        {
          "output_type": "stream",
          "text": [
            "(215, 3)\n",
            "(215, 1)\n"
          ],
          "name": "stdout"
        }
      ]
    },
    {
      "cell_type": "markdown",
      "metadata": {
        "id": "khRo-njGD4jR",
        "colab_type": "text"
      },
      "source": [
        "**Spliting the Training and testing datasets**"
      ]
    },
    {
      "cell_type": "code",
      "metadata": {
        "id": "OyJLPDaID5C4",
        "colab_type": "code",
        "colab": {}
      },
      "source": [
        "# we need the independent bias parameters\n",
        "X_bias = np.c_[np.ones((215,1)),X]\n",
        "from sklearn.model_selection import train_test_split\n",
        "X_train, X_test, y_train, y_test = train_test_split(X_bias,y,test_size=0.2)"
      ],
      "execution_count": 14,
      "outputs": []
    },
    {
      "cell_type": "markdown",
      "metadata": {
        "id": "qmp2NfbT9ucT",
        "colab_type": "text"
      },
      "source": [
        "**Creating the model using the normal Equation**\n",
        "![image.png](data:image/png;base64,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)\n",
        "\n",
        "\n",
        "> \n",
        "It is vector containg the hypothesis parameter.\n",
        "We can predict dependent varible using this vector\n",
        "\n",
        "> \n",
        "\n",
        "![image.png](data:image/png;base64,iVBORw0KGgoAAAANSUhEUgAAAG8AAAAsCAYAAABrCeaiAAAM9ElEQVR4Ae2aZYhWzxfH10AwXyhioKhgJyooKgYWYmFjoy/sLjAQsQsUfaOCjV3YGCg2dnd3d/f8+Rz8Xua5+6y6P3f/sPAM3J17Z86cc+Z7YuLZOBcrKRaBuBSreUxxFzNeCnaCmPFixkvBCKRg1WORFzNeCkYgBasei7yY8VIwAkmk+rdv34wT9ZcvX9y7d+9c6dKlXVxcnMuUKZPVvKdLl86lSpXKvtOkSePmzZvnvn//bmO/fv1qtb7FMyEVY5GXEDKJaBfoP3/+tFHUa9ascUOHDnXXrl1zr169cocOHXJly5Z1R44ccZ8+fTK6qVOnWntYVJhfuF/fMeMJiX+oMcaPHz8Co8Bq7dq17vbt28aVKJwyZYqrUKGCu3PnTiBp586d7s2bN/ZNtKrIuPpOqI4ZLyFkEtFOpCnqPn/+bO8fPnwIOGCMli1burFjxwbGIjX6Bvv48WNA77cHjVFeYsaLAkpimpTiNIYIxIAUDIjhrl696kqUKOEWL15s7VrLMCBGZ4y/zvFNEZ19RPkTM14UUBLTBNAC++3btzYUQwC82rdu3ery5ctn6x0E0KlPRpNM32B/isCY8YTaP9ZEoNYvWCkNEn2zZ892DRo0cPfv3w/aoVHkSbRSL9+KSPVFq2PGi4ZKItoUHTIWQxVVRBEG7dSpk+vbt6+lUfqVVmUsRaqfgv33hNQJjCdGEPoDlQpU008eF41qTYJ+aIcMGeIuXboUkbc1KZ8Wer4l//nz5zRZef/+vfGAly9f4yVb9MlVK5UJ9HCq83eHepdut27dcnXr1nVz584NMHv58mWSqBoYDwUBUCDCXYDhVVLGlyoQZRToGD9nzhx34cIFnzQwIooLhNevXwfba41lEKnG363BC57wlodLZoSQZPhg3jIWhtE7238VsINOhqOdb+awYcMGlzdvXnf27FmRWy3sIhoT+REnMPxxAPPs2TO3e/dulzp1arsN2LRpkykn46pW1DCGttWrV7tx48YFk4QvNOqXHHkzE8Yr8+TJ44oWLepmzpwZGFpGBjB4whsZ4pUUAEif39XSA5qwEx8+fNh16dLFMOrYsWPgtOj55MkT17hxYzsmcOaDj3gxB55/KUHkoRRgCFSYYkBuCOrXr2+e40cDtAAvI0JPfm/Tpo2lOh9Y8dR4AXD9+nXXpEkTN2jQIBvLARZZeKto4AsvUjC8/U2BL/tfQPjT2DAuzJu2pUuXuqpVq7q9e/easy5ZssQ2JhitX79+wZUY12IZMmRwEydONHzJOElRIowHGADtewS3AACMISn0EQkyCG0CkXs6ABYdtU9nHc7ZvR/trVu3dpMnT7ZmeSUR1q1bN5MhvtIH3sigqE88k6uW/hiLRwXD1ahRw128eNGacLbLly+78uXLuwMHDkTMW06rsaoTalf/n+o4FBI4ImajgHe9ePHC9e/f3w0cODAiEkSHEXlIvUyybdu2bsaMGfbOt/jCS0UAcK9XvXp1d/fuXecv4NOmTXPNmze3bbV0gxcPvJHBOzKRndxFac6XdfPmTVevXj03atSoCPGnT592BQsWdDg8cwdHSjjS4OWvmRFMEvERRJ6U8z0agMjZW7ZsCVgCHAU6vfONESpVqmTrpIjFUx6mVMjkixcv7hYsWGCk4sNke/bs6WrWrGn86BQP3lmDkYGs/2eRfsjE0caMGWPpEaNoTqTz48ePu/z587v58+cH6sn4NIQNprEBcSJf4nzF/LEAiTJlypRxp06dCnZSGI3HF0xkHTx40HI8ACviqBV1asMYkyZNsrUCI4oPE2OiDRs2dL1797YUhfNoHDW8WT+QJb6+zsn1LueD/5UrVyxjcNHsG4Y+NnXoxybGjzYMrnkwp/C4/6q3RZ7PDCEyKB5Emnr8+LGBiTFZ/7JkyeK2b98eKIEB1q9fb/leR4RoRgYEogYDsaDLcChPijx27JjtOElHSq/iAw28WVOQpbFKTXwDDIUx/8W44gkPvYOHjw9rbrFixdz+/ftNlvTkY/jw4a5IkSLuzJkzpgN6/Kkwnk3h6NGjbdcK1iqDBw82WefPnzd9pJP0MeMpNVFr0hD06tXLFIIZeXzdunWOQzSHzu7du0uGGRtDFypUyBQPOn69+BNkMcc7+UESJ9B7xowZgx8pFy1aZCPDkwcUZCBLDgah7+VPnz61sfT36NHD+CPjd4+OQ5kzZ3bDhg0LHEfO4EcNmyZ45c6d2+qsWbNG8Ga3DEZh3X9BEa/CCeCXPn16lz17drd582ZbKgiatGnT2p0ovwX6JcJ4foeMhwfUrl3b1jvSFJFGuXHjhqtSpYpjw0EkSUnOYBhVKYYJyynkMawL/CxSoEABd+LECQNd44mgESNG2G9e9+7ds80S8uAh8OCNDGRRNJZ+yaCdOdAn8I34N3+QAb3kYHg5hObAcHaWhQsXNgOLt5yFzUqpUqXcyJEj/1qur9LGjRtdjhw53IQJE+wIwrGDIvnoJJnSM96GRSBgMNY7vJxfhQXUjh07zFPI60SUGC1fvty2zngdghRt8JOnAD73fGyC/ALYHEU4M5FSUVjpEDp4wRPebM+RRUE27RTG8C49rfEXDXQJPdJN/DRetcCjn6ggWyxbtiyeHG6AyB6cUSmM98daY5Q/wo85cthnw6NlQWdaHCm82eE72LAIbATCkG15zpw5zctYcNXPQbNy5coR1z3Qk+rKlSvnuMtDcSnl60tux0C6gZFyGGrVqlWOtIXiGitH4hue8EYGskTjgy9ZtKGvdFZ7QjW8mLfkQYduPmA4HscYoovLBYp0IFPwY2uHDh0sYuEVTa+E5OOUFAImW7Zs9vtfNFrkoZMcK04KI1BejODOnTvb+kJOlpKc+1q0aOH69OljvAUO4bxixQpXsmTJ4HoIAniLhm/u96AhciRLSpLja9WqZekS+TxhQNmwMB5ZSiGMV6rmXWdGojl8y5HQuqc1j8jh/06kMyDpgTcpjbT94MED01+4sCaR8og+3QdDz/+u/KkwR/gwH1InS8r06dNtGBgwDx7wovZLkDZlTTpZ16pVq2ZrkECG+blz58ygbFw0Qeh5Z0PD/eTKlSvjpQt5IuBzTmP9FF/G7tmzx9aShQsXxlNQysID3shAli8fGgyoOdAHf8b8TYGOB2eDB2P9tA2IAMw63759+4gIJWr41aNZs2aB42huMu7f6EBEce5t1aqV/XykMdHmgBHRKTgq8EFB4LZt22yLypmGyQgowK1YsaI7evRoMDkxJyq5MWF9pI1xPLxrPDREF2uGvIh+0g07W+iQL+DCfOCNDPhQ1G8fv/5gAIGn2u8Pv0tP2n2wcVb4U6QrkcV6/fDhQ2unn90z/+KgDZ3GGMFf/gF71lPmPX78eIvuR48emUPqn5h8PcQ2TmGO4hLMdpkbct1nSnmuyZo2bWqHZc5kmqy8ngVXu1ClYwlSauMuk6slACDFcb6BJwd2ivI/7wBLgRfj4Y0M2sXPCJLxj5waEfwvCs7D+oxjnDx50nberMGaL7X0Bh+ldzmk3zdgwABbAvg3CZyAsm/fPpcrVy6r4Yt9wF9YQwMPniDyxBRQWe84IFIUNex4unbtaveORB5hDkMpRX7HoBhG6w4TVJQAAmNwEBZ+7gC1+WANobBJkB7aqit64AlvZGgtkWwbnMx/dHjmtol1j/WzXbt2jgO0nBsVMJ6CwAdc7+AJFhhl1qxZFrUcMyjMlbk1atTIduX6GUn8NMUI42mglBCACNK7BorWb9c4IrVOnTpu165dgcdBL++TIRjLzpHCzycU2nxjoLCUZjw84R3OBjY4Gf8Q4X70IUoO7Ytlbr7h1Ac26lObajk5teaqPmGq72h1HB7upyDelQIQisfA2I8KGYN2n5Z2wp+LWxVoZDS1hWvA0GGXPiKU4oMGT3gjQ/wkO8wvqb99fOBN1OBsRAn4CCfJpY95U1NU+/16hy5a+SvjaaDPBIUk0Pcy3gUc4wBSQMuLaOcowA+UTE4AE1XiBRjIo883kHRBcaUZeMBLB3NoJEuyNS45auFAjVzplZAs5sUDXZiW+avf1x1MwQJ6sJGzQKuCfOmitjjAUQFgn6naYewzkgLq12Gbb4CHB9teDrMIVKTST5/vADKuxoqnDA0PeDHO90ZfpsYkVx3GBIcDA2p0Yj7o62cFdMEY0DBHaHz9fcNGMxb9ogFD/1vzDM55PqB0wpC234Eko8hrxJSayYknwnkXPf1MRMoxQVKRvn0+jPMdhz7ofKP79En97uvk6x/WKZpc5hWtgAdPeA4Ej9r9sbShB7VfzHjyIjrk8VJatd+uSYiZaCTEFyAatSFLnkafz0uAyOjiq7F8i1+4TzTJUaMjcgW2H0G0+7rwDVb+HOjXWPp9wwgLvw0aiurwu+YYRJ4aYnXKQSBmvJRjq3iaxowXD5KU0xAzXsqxVTxN/wfohr1q2ZLxRQAAAABJRU5ErkJggg==)\n",
        "\n",
        "\n",
        "> This is the hypothesis function.\n",
        "\n",
        "\n",
        "> ![image.png](data:image/png;base64,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)\n",
        "\n",
        "\n",
        "\n",
        "> This is cost function of model.We are trying to minimize the cost function to have the higher accuracy of the linear regression models.\n",
        "\n",
        "\n",
        "\n"
      ]
    },
    {
      "cell_type": "code",
      "metadata": {
        "id": "qpktuFRvAmAy",
        "colab_type": "code",
        "colab": {}
      },
      "source": [
        "from numpy.linalg import pinv,inv\n",
        "def get_best_params(X,y):\n",
        "  X_tran = X.T\n",
        "  best_para = inv(X_tran.dot(X)).dot(X_tran).dot(y)\n",
        "  return best_para\n",
        "\n",
        "def predict(X,features):\n",
        "  return X.dot(features)\n",
        "\n",
        "def mean_squared_error(y,y_pred):\n",
        "  return np.sum(np.square(y_pred-y))/(2*len(y))\n"
      ],
      "execution_count": 21,
      "outputs": []
    },
    {
      "cell_type": "code",
      "metadata": {
        "id": "Vm4HignUCNcl",
        "colab_type": "code",
        "colab": {}
      },
      "source": [
        "features = get_best_params(X_train,y_train) # Finding the best parameters of model\n",
        "y_train_prediction = predict(X_train,features) # predicting the training data\n",
        "y_test_prediction = predict(X_test,features) # predicting the testing data\n"
      ],
      "execution_count": 22,
      "outputs": []
    },
    {
      "cell_type": "code",
      "metadata": {
        "id": "GbEf07ReFmqt",
        "colab_type": "code",
        "colab": {
          "base_uri": "https://localhost:8080/",
          "height": 34
        },
        "outputId": "5e72e059-2c51-4b23-854e-cedc89194dea"
      },
      "source": [
        "# finding mean squared error which defines  \n",
        "accuracy_train = mean_squared_error(y_train,y_train_prediction)\n",
        "accuracy_train"
      ],
      "execution_count": 28,
      "outputs": [
        {
          "output_type": "execute_result",
          "data": {
            "text/plain": [
              "81.52648907547429"
            ]
          },
          "metadata": {
            "tags": []
          },
          "execution_count": 28
        }
      ]
    },
    {
      "cell_type": "code",
      "metadata": {
        "id": "AEMDDcrCJV8a",
        "colab_type": "code",
        "colab": {
          "base_uri": "https://localhost:8080/",
          "height": 34
        },
        "outputId": "c5f3805d-c319-47ce-dbca-d82374c163ef"
      },
      "source": [
        "accuracy_test = mean_squared_error(y_test,y_test_prediction)\n",
        "accuracy_test"
      ],
      "execution_count": 29,
      "outputs": [
        {
          "output_type": "execute_result",
          "data": {
            "text/plain": [
              "73.27406877748268"
            ]
          },
          "metadata": {
            "tags": []
          },
          "execution_count": 29
        }
      ]
    },
    {
      "cell_type": "code",
      "metadata": {
        "id": "mOAshqp9K9sh",
        "colab_type": "code",
        "colab": {}
      },
      "source": [
        ""
      ],
      "execution_count": null,
      "outputs": []
    }
  ]
}