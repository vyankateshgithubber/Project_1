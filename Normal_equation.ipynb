{
  "nbformat": 4,
  "nbformat_minor": 0,
  "metadata": {
    "colab": {
      "name": "Normal_equation.ipynb",
      "provenance": [],
      "authorship_tag": "ABX9TyOSiCSPI61yXNK3eTLf8Aj5",
      "include_colab_link": true
    },
    "kernelspec": {
      "name": "python3",
      "display_name": "Python 3"
    }
  },
  "cells": [
    {
      "cell_type": "markdown",
      "metadata": {
        "id": "view-in-github",
        "colab_type": "text"
      },
      "source": [
        "<a href=\"https://colab.research.google.com/github/vyankateshgithubber/Project_1/blob/master/Normal_equation.ipynb\" target=\"_parent\"><img src=\"https://colab.research.google.com/assets/colab-badge.svg\" alt=\"Open In Colab\"/></a>"
      ]
    },
    {
      "cell_type": "markdown",
      "metadata": {
        "id": "2w4Vc4lH9eWn",
        "colab_type": "text"
      },
      "source": [
        "\n",
        "**Import the Libraries**"
      ]
    },
    {
      "cell_type": "code",
      "metadata": {
        "id": "syOulqQH88Az",
        "colab_type": "code",
        "colab": {}
      },
      "source": [
        "import numpy as np\n",
        "import pandas as pd\n",
        "import matplotlib.pyplot as plt\n",
        "import seaborn as sns"
      ],
      "execution_count": 2,
      "outputs": []
    },
    {
      "cell_type": "markdown",
      "metadata": {
        "id": "_YmvbO63-C99",
        "colab_type": "text"
      },
      "source": [
        "**Import the Dataset**"
      ]
    },
    {
      "cell_type": "code",
      "metadata": {
        "id": "TsrobXIw-Cm7",
        "colab_type": "code",
        "colab": {
          "base_uri": "https://localhost:8080/",
          "height": 252
        },
        "outputId": "606519f3-d24d-4394-d503-bec2c76c30ec"
      },
      "source": [
        "dataset = pd.read_csv('/content/Placement_Data_Full_Class.csv')\n",
        "print(dataset)\n",
        "size = dataset.shape[0]"
      ],
      "execution_count": 3,
      "outputs": [
        {
          "output_type": "stream",
          "text": [
            "     sl_no gender  ssc_p    ssc_b  ...  specialisation  mba_p      status    salary\n",
            "0        1      M  67.00   Others  ...          Mkt&HR  58.80      Placed  270000.0\n",
            "1        2      M  79.33  Central  ...         Mkt&Fin  66.28      Placed  200000.0\n",
            "2        3      M  65.00  Central  ...         Mkt&Fin  57.80      Placed  250000.0\n",
            "3        4      M  56.00  Central  ...          Mkt&HR  59.43  Not Placed       NaN\n",
            "4        5      M  85.80  Central  ...         Mkt&Fin  55.50      Placed  425000.0\n",
            "..     ...    ...    ...      ...  ...             ...    ...         ...       ...\n",
            "210    211      M  80.60   Others  ...         Mkt&Fin  74.49      Placed  400000.0\n",
            "211    212      M  58.00   Others  ...         Mkt&Fin  53.62      Placed  275000.0\n",
            "212    213      M  67.00   Others  ...         Mkt&Fin  69.72      Placed  295000.0\n",
            "213    214      F  74.00   Others  ...          Mkt&HR  60.23      Placed  204000.0\n",
            "214    215      M  62.00  Central  ...          Mkt&HR  60.22  Not Placed       NaN\n",
            "\n",
            "[215 rows x 15 columns]\n"
          ],
          "name": "stdout"
        }
      ]
    },
    {
      "cell_type": "code",
      "metadata": {
        "id": "o-QAPU2d-AIX",
        "colab_type": "code",
        "colab": {
          "base_uri": "https://localhost:8080/",
          "height": 386
        },
        "outputId": "ff9cf2fe-4941-4ba7-b264-f362fd9f6296"
      },
      "source": [
        "dataset.info()"
      ],
      "execution_count": 4,
      "outputs": [
        {
          "output_type": "stream",
          "text": [
            "<class 'pandas.core.frame.DataFrame'>\n",
            "RangeIndex: 215 entries, 0 to 214\n",
            "Data columns (total 15 columns):\n",
            " #   Column          Non-Null Count  Dtype  \n",
            "---  ------          --------------  -----  \n",
            " 0   sl_no           215 non-null    int64  \n",
            " 1   gender          215 non-null    object \n",
            " 2   ssc_p           215 non-null    float64\n",
            " 3   ssc_b           215 non-null    object \n",
            " 4   hsc_p           215 non-null    float64\n",
            " 5   hsc_b           215 non-null    object \n",
            " 6   hsc_s           215 non-null    object \n",
            " 7   degree_p        215 non-null    float64\n",
            " 8   degree_t        215 non-null    object \n",
            " 9   workex          215 non-null    object \n",
            " 10  etest_p         215 non-null    float64\n",
            " 11  specialisation  215 non-null    object \n",
            " 12  mba_p           215 non-null    float64\n",
            " 13  status          215 non-null    object \n",
            " 14  salary          148 non-null    float64\n",
            "dtypes: float64(6), int64(1), object(8)\n",
            "memory usage: 25.3+ KB\n"
          ],
          "name": "stdout"
        }
      ]
    },
    {
      "cell_type": "markdown",
      "metadata": {
        "id": "Mqn7jpqZ--Dn",
        "colab_type": "text"
      },
      "source": [
        "**Our main of this project is to predict etest percentage using the all the pervious year's SSC,HSC and degree percentage.\n",
        "Independent variables (X) are  ssc_p,hsc_p,degree_p.\n",
        "Dependent varible is etest_p.**"
      ]
    },
    {
      "cell_type": "code",
      "metadata": {
        "id": "L-XEoIXv-izX",
        "colab_type": "code",
        "colab": {
          "base_uri": "https://localhost:8080/",
          "height": 50
        },
        "outputId": "25971a4b-e373-4a64-aefb-f5a9bb317451"
      },
      "source": [
        "X = np.array(dataset[['ssc_p','hsc_p','degree_p']])\n",
        "y = np.array(dataset['etest_p']).reshape(-1,1)\n",
        "print(X.shape)\n",
        "print(y.shape)"
      ],
      "execution_count": 13,
      "outputs": [
        {
          "output_type": "stream",
          "text": [
            "(215, 3)\n",
            "(215, 1)\n"
          ],
          "name": "stdout"
        }
      ]
    },
    {
      "cell_type": "code",
      "metadata": {
        "id": "qpktuFRvAmAy",
        "colab_type": "code",
        "colab": {}
      },
      "source": [
        ""
      ],
      "execution_count": 14,
      "outputs": []
    },
    {
      "cell_type": "code",
      "metadata": {
        "id": "Vm4HignUCNcl",
        "colab_type": "code",
        "colab": {}
      },
      "source": [
        ""
      ],
      "execution_count": null,
      "outputs": []
    }
  ]
}